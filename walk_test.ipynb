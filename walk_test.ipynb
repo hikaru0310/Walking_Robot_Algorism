{
 "cells": [
  {
   "cell_type": "code",
   "execution_count": 7,
   "metadata": {},
   "outputs": [
    {
     "data": {
      "text/plain": [
       "Plots.GRBackend()"
      ]
     },
     "execution_count": 7,
     "metadata": {},
     "output_type": "execute_result"
    }
   ],
   "source": [
    "using Plots\n",
    "using PyCall\n",
    "using ControlSystems\n",
    "\n",
    "gr()"
   ]
  },
  {
   "cell_type": "code",
   "execution_count": 8,
   "metadata": {},
   "outputs": [
    {
     "data": {
      "text/plain": [
       "4801-element Array{Float64,1}:\n",
       " 0.0\n",
       " 0.0\n",
       " 0.0\n",
       " 0.0\n",
       " 0.0\n",
       " 0.0\n",
       " 0.0\n",
       " 0.0\n",
       " 0.0\n",
       " 0.0\n",
       " 0.0\n",
       " 0.0\n",
       " 0.0\n",
       " ⋮  \n",
       " 0.0\n",
       " 0.0\n",
       " 0.0\n",
       " 0.0\n",
       " 0.0\n",
       " 0.0\n",
       " 0.0\n",
       " 0.0\n",
       " 0.0\n",
       " 0.0\n",
       " 0.0\n",
       " 0.0"
      ]
     },
     "execution_count": 8,
     "metadata": {},
     "output_type": "execute_result"
    }
   ],
   "source": [
    "zc=0.8\n",
    "g=9.8\n",
    "dt=0.001\n",
    "\n",
    "#支持時間\n",
    "Tsup=Int32(0.8*1000)\n",
    "#全脚期間\n",
    "Tdl=0.2\n",
    "\n",
    "#全体のステップ数\n",
    "k_max=Int32(1+(Tsup*6))\n",
    "#目標予見ステップ\n",
    "M=1000\n",
    "\n",
    "#支持脚位置\n",
    "sx=[0.0 0.0 0.3 0.6 0.9 0.9]\n",
    "sy=[0.0 0.2 0.0 0.2 0.0 0.2]\n",
    "\n",
    "\n",
    "#目標ZMPベクトル\n",
    "px_ref=[[sx[1] for s in 1:Tsup]\n",
    "        [sx[2] for s in 1:Tsup]\n",
    "        [sx[3] for s in 1:Tsup]\n",
    "        [sx[4] for s in 1:Tsup]\n",
    "        [sx[5] for s in 1:Tsup]\n",
    "        [sx[6] for s in 1:Tsup+1+M]]\n",
    "\n",
    "py_ref=[[sy[1] for s in 1:Tsup]\n",
    "        [sy[2] for s in 1:Tsup]\n",
    "        [sy[3] for s in 1:Tsup]\n",
    "        [sy[4] for s in 1:Tsup]\n",
    "        [sy[5] for s in 1:Tsup]\n",
    "        [sy[6] for s in 1:Tsup+1+M]]\n",
    "\n",
    "#計算上のZMPベクトル\n",
    "px=zeros(Float64,k_max) \n",
    "py=zeros(Float64,k_max) "
   ]
  },
  {
   "cell_type": "code",
   "execution_count": 9,
   "metadata": {},
   "outputs": [
    {
     "data": {
      "text/plain": [
       "4-element Array{Float64,1}:\n",
       " 1.0\n",
       " 0.0\n",
       " 0.0\n",
       " 0.0"
      ]
     },
     "execution_count": 9,
     "metadata": {},
     "output_type": "execute_result"
    }
   ],
   "source": [
    "A=[1 dt dt^2/2\n",
    "    0 1 dt\n",
    "    0 0 1]\n",
    "B=[dt^3/6\n",
    "    dt^2/2\n",
    "    dt]\n",
    "C=[1 0 -zc/g]\n",
    "\n",
    "Q=[100 0 0 0\n",
    "    0 10 0 0\n",
    "    0 0 1 0\n",
    "    0 0 0 1]\n",
    "R=1.0\n",
    "\n",
    "#エラーシステム\n",
    "\n",
    "#内部状態ベクトル\n",
    "x=[0.0\n",
    "    0.0\n",
    "    0.0]\n",
    "\n",
    "y=[0.01\n",
    "    0.0\n",
    "    0.0]\n",
    "\n",
    "φ=[1 -C*A\n",
    "    zeros(Float64,3) A]\n",
    "G=[-C*B\n",
    "    B]\n",
    "Gr=[1.0\n",
    "    0.0\n",
    "    0.0\n",
    "    0.0]"
   ]
  },
  {
   "cell_type": "code",
   "execution_count": 10,
   "metadata": {},
   "outputs": [
    {
     "data": {
      "text/plain": [
       "1-element Array{Float64,1}:\n",
       " -0.107308"
      ]
     },
     "execution_count": 10,
     "metadata": {},
     "output_type": "execute_result"
    }
   ],
   "source": [
    "k=0\n",
    "\n",
    "t=[i for i in 1:k_max]\n",
    "x_plot_log=zeros(Float64,k_max)\n",
    "x_plot_log[k+1]=x[1] #plotするために記録\n",
    "xv_plot_log=zeros(Float64,k_max)\n",
    "xv_plot_log[k+1]=x[2]\n",
    "xa_plot_log=zeros(Float64,k_max)\n",
    "xa_plot_log[k+1]=x[3]\n",
    "\n",
    "t=[i for i in 1:k_max]\n",
    "y_plot_log=zeros(Float64,k_max)\n",
    "y_plot_log[k+1]=y[1] #plotするために記録\n",
    "yv_plot_log=zeros(Float64,k_max)\n",
    "yv_plot_log[k+1]=y[2]\n",
    "ya_plot_log=zeros(Float64,k_max)\n",
    "ya_plot_log[k+1]=y[3] \n",
    "\n",
    "\n",
    "xdu=0\n",
    "xdR=px_ref[k+1]-px[1] #dR[K+1]\n",
    "ydu=0\n",
    "ydR=py_ref[k+1]-py[1] #dR[K+1]\n",
    "\n",
    "xe=px[1]-C*x\n",
    "ye=py[1]-C*y\n",
    "\n",
    "\n",
    "dx=[0; 0; 0]\n",
    "dy=[0; 0; 0]\n",
    "\n",
    "X=φ*[xe; dx]+G*xdu+Gr*xdR\n",
    "Y=φ*[ye; dy]+G*ydu+Gr*ydR\n",
    "\n",
    "\n",
    "old_x=x\n",
    "old_y=y\n",
    "\n",
    "xu=0\n",
    "yu=0\n",
    "\n",
    "P=dare(φ,G,Q,R)\n",
    "\n",
    "ξ=(eye(4)-G*(R+G'*P*G)[1]*G'*P)*φ\n",
    "\n",
    "xsum=0\n",
    "ysum=0\n",
    "for j in 1:M\n",
    "    Fr=-(R+G'*P*G)*G'*(ξ')^(j-1)*P*Gr\n",
    "    xsum +=Fr*(px_ref[k+j]-px_ref[k+j-1+1]) #K=0のみ+1\n",
    "    ysum +=Fr*(py_ref[k+j]-py_ref[k+j-1+1]) #K=0のみ+1\n",
    "end\n",
    "F=-(R+G'*P*G)*G'*P*φ\n",
    "xdu=F*X+xsum\n",
    "ydu=F*Y+ysum\n",
    "\n",
    "xu+=xdu\n",
    "yu+=ydu"
   ]
  },
  {
   "cell_type": "code",
   "execution_count": 11,
   "metadata": {},
   "outputs": [],
   "source": [
    "for i in 1:k_max-1  \n",
    "    #求めた入力を用いてk+1の状態を計算する\n",
    "    px[k+1]=(C*x)[1]\n",
    "    py[k+1]=(C*y)[1]\n",
    "    \n",
    "    x=A*x+B*xu[1]\n",
    "    y=A*y+B*yu[1]\n",
    "    \n",
    "    k+=1\n",
    "    \n",
    "    x_plot_log[k+1]=x[1] #plotするために記録\n",
    "    xv_plot_log[k+1]=x[2]\n",
    "    xa_plot_log[k+1]=x[3]\n",
    "    \n",
    "    y_plot_log[k+1]=y[1] #plotするために記録\n",
    "    yv_plot_log[k+1]=y[2]\n",
    "    ya_plot_log[k+1]=y[3]\n",
    "    \n",
    "    dx=x-old_x\n",
    "    dy=y-old_y\n",
    "    \n",
    "    xdR=px_ref[k+1]-px_ref[k]\n",
    "    ydR=py_ref[k+1]-py_ref[k]\n",
    "    \n",
    "    \n",
    "    xe=px_ref[k]-C*x\n",
    "    ye=py_ref[k]-C*y\n",
    "    \n",
    "    X=φ*[xe; dx]+G*xdu[1]+Gr*xdR\n",
    "    Y=φ*[ye; dy]+G*ydu[1]+Gr*ydR\n",
    "    \n",
    "    old_x=x\n",
    "    old_y=y\n",
    "    \n",
    "    xsum=0\n",
    "    ysum=0\n",
    "    for j in 1:M\n",
    "        Fr=-(R+G'*P*G)*G'*(ξ')^(j-1)*P*Gr\n",
    "        xsum +=Fr*(px_ref[k+j]-px_ref[k+j-1])\n",
    "        ysum +=Fr*(py_ref[k+j]-py_ref[k+j-1])\n",
    "    end\n",
    "    F=-(R+G'*P*G)*G'*P*φ\n",
    "    xdu=F*X+xsum\n",
    "    ydu=F*Y+ysum\n",
    "    \n",
    "    xu+=xdu\n",
    "    yu+=ydu\n",
    "end\n",
    "    "
   ]
  },
  {
   "cell_type": "code",
   "execution_count": null,
   "metadata": {},
   "outputs": [],
   "source": []
  }
 ],
 "metadata": {
  "kernelspec": {
   "display_name": "Julia 0.5.2",
   "language": "julia",
   "name": "julia-0.5"
  },
  "language_info": {
   "file_extension": ".jl",
   "mimetype": "application/julia",
   "name": "julia",
   "version": "0.5.2"
  }
 },
 "nbformat": 4,
 "nbformat_minor": 2
}
