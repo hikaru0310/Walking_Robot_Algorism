{
 "cells": [
  {
   "cell_type": "code",
   "execution_count": 21,
   "metadata": {},
   "outputs": [
    {
     "data": {
      "text/plain": [
       "Plots.PlotlyBackend()"
      ]
     },
     "execution_count": 21,
     "metadata": {},
     "output_type": "execute_result"
    }
   ],
   "source": [
    "using Plots\n",
    "#using PyCall\n",
    "using ControlSystems\n",
    "\n",
    "plotly()"
   ]
  },
  {
   "cell_type": "code",
   "execution_count": 22,
   "metadata": {},
   "outputs": [
    {
     "data": {
      "text/plain": [
       "4301-element Array{Float64,1}:\n",
       " 0.154904\n",
       " 0.154904\n",
       " 0.154904\n",
       " 0.154904\n",
       " 0.154904\n",
       " 0.154904\n",
       " 0.154904\n",
       " 0.154904\n",
       " 0.154904\n",
       " 0.154904\n",
       " 0.154904\n",
       " 0.154904\n",
       " 0.154904\n",
       " ⋮       \n",
       " 0.42476 \n",
       " 0.42476 \n",
       " 0.42476 \n",
       " 0.42476 \n",
       " 0.42476 \n",
       " 0.42476 \n",
       " 0.42476 \n",
       " 0.42476 \n",
       " 0.42476 \n",
       " 0.42476 \n",
       " 0.42476 \n",
       " 0.42476 "
      ]
     },
     "execution_count": 22,
     "metadata": {},
     "output_type": "execute_result"
    }
   ],
   "source": [
    "#両脚支持期間を導入\n",
    "\n",
    "zc=0.35\n",
    "g=9.8\n",
    "dt=0.001\n",
    "L=0.15\n",
    "#歩幅\n",
    "x=0.05\n",
    "\n",
    "\n",
    "#支持時間\n",
    "Tsup=Int32(0.5/dt)\n",
    "#全脚期間\n",
    "Tdl=Int32(0.1/dt)\n",
    "\n",
    "#全体のステップ数\n",
    "k_max=Int32(1+(Tsup*6)+(Tdl*5))\n",
    "#目標予見ステップ\n",
    "M=800\n",
    "\n",
    "#支持脚位置\n",
    "#sx=[0.0 0.0 0.3 0.6 0.9 0.9]\n",
    "#sy=[0.0 0.2 0.0 0.2 0.0 0.2]\n",
    "\n",
    "#real support point\n",
    "real_sx=[0.0; (1/2)*sqrt(3)*L; (1/2)*sqrt(3)*L+x; (1/2)*sqrt(3)*L+x; sqrt(3)*L+x; sqrt(3)*L+2x; sqrt(3)*L+2x; (3/2)*sqrt(3)*L+2x]\n",
    "real_sy=[L/2; 0.0; L; L/2; 0.0; L; L/2; 0.0]\n",
    "\n",
    "#Virtual support point\n",
    "sx=[(1/2)*(sqrt(3)*L+x) \n",
    "    (1/2)*sqrt(3)*L+x \n",
    "    (3/4)*sqrt(3)*L+x \n",
    "    sqrt(3)*L+(3/2)*x \n",
    "    sqrt(3)*L+2*x \n",
    "    (5/4)*sqrt(3)*L+2*x]\n",
    "sy=[L/2 \n",
    "    3*L/4 \n",
    "    L/4 \n",
    "    L/2 \n",
    "    3*L/4 \n",
    "    L/4]\n",
    "\n",
    "\n",
    "#全脚支持期間の目標ZMP生成\n",
    "#パラメータ決定\n",
    "x_tdl_a=zeros(Float64,5)\n",
    "x_tdl_b=zeros(Float64,5)\n",
    "y_tdl_a=zeros(Float64,5)\n",
    "y_tdl_b=zeros(Float64,5)\n",
    "\n",
    "for i in 1:5\n",
    "    x_tdl_a[i]=(sx[i]-sx[i+1])/(-Tdl*dt)\n",
    "    x_tdl_b[i]=sx[i]-x_tdl_a[i]*(i*Tsup*dt+(i-1)*Tdl*dt)\n",
    "end\n",
    "\n",
    "for i in 1:5\n",
    "    y_tdl_a[i]=(sy[i]-sy[i+1])/(-Tdl*dt)\n",
    "    y_tdl_b[i]=sy[i]-y_tdl_a[i]*(i*Tsup*dt+(i-1)*Tdl*dt)\n",
    "end\n",
    "\n",
    "#目標ZMPベクトル\n",
    "px_ref=[[sx[1] for s in 1:Tsup]\n",
    "        [x_tdl_a[1]*s+x_tdl_b[1] for s in 1*Tsup*dt+(1-1)*Tdl*dt:dt:1*Tsup*dt+(1-1)*Tdl*dt+Tdl*dt-dt]\n",
    "        [sx[2] for s in 1:Tsup]\n",
    "        [x_tdl_a[2]*s+x_tdl_b[2] for s in 2*Tsup*dt+(2-1)*Tdl*dt:dt:2*Tsup*dt+(2-1)*Tdl*dt+Tdl*dt-dt]\n",
    "        [sx[3] for s in 1:Tsup]\n",
    "        [x_tdl_a[3]*s+x_tdl_b[3] for s in 3*Tsup*dt+(3-1)*Tdl*dt:dt:3*Tsup*dt+(3-1)*Tdl*dt+Tdl*dt-dt]\n",
    "        [sx[4] for s in 1:Tsup]\n",
    "        [x_tdl_a[4]*s+x_tdl_b[4] for s in 4*Tsup*dt+(4-1)*Tdl*dt:dt:4*Tsup*dt+(4-1)*Tdl*dt+Tdl*dt-dt]\n",
    "        [sx[5] for s in 1:Tsup]\n",
    "        [x_tdl_a[5]*s+x_tdl_b[5] for s in 5*Tsup*dt+(5-1)*Tdl*dt:dt:5*Tsup*dt+(5-1)*Tdl*dt+Tdl*dt-dt]\n",
    "        [sx[6] for s in 1:Tsup+1+M]]\n",
    "\n",
    "py_ref=[[sy[1] for s in 1:Tsup]\n",
    "    [y_tdl_a[1]*s+y_tdl_b[1] for s in 1*Tsup*dt+(1-1)*Tdl*dt:dt:1*Tsup*dt+(1-1)*Tdl*dt+Tdl*dt-dt]\n",
    "        [sy[2] for s in 1:Tsup]\n",
    "    [y_tdl_a[2]*s+y_tdl_b[2] for s in 2*Tsup*dt+(2-1)*Tdl*dt:dt:2*Tsup*dt+(2-1)*Tdl*dt+Tdl*dt-dt]\n",
    "        [sy[3] for s in 1:Tsup]\n",
    "    [y_tdl_a[3]*s+y_tdl_b[3] for s in 3*Tsup*dt+(3-1)*Tdl*dt:dt:3*Tsup*dt+(3-1)*Tdl*dt+Tdl*dt-dt]\n",
    "        [sy[4] for s in 1:Tsup]\n",
    "    [y_tdl_a[4]*s+y_tdl_b[4] for s in 4*Tsup*dt+(4-1)*Tdl*dt:dt:4*Tsup*dt+(4-1)*Tdl*dt+Tdl*dt-dt]\n",
    "        [sy[5] for s in 1:Tsup]\n",
    "    [y_tdl_a[5]*s+y_tdl_b[5] for s in 5*Tsup*dt+(5-1)*Tdl*dt:dt:5*Tsup*dt+(5-1)*Tdl*dt+Tdl*dt-dt]\n",
    "        [sy[6] for s in 1:Tsup+1+M]]\n",
    "\n",
    "#計算上のZMPベクトル\n",
    "px=zeros(Float64,k_max) \n",
    "py=zeros(Float64,k_max) \n",
    "\n",
    " px_ref"
   ]
  },
  {
   "cell_type": "code",
   "execution_count": 23,
   "metadata": {},
   "outputs": [
    {
     "data": {
      "text/plain": [
       "4-element Array{Float64,1}:\n",
       " 1.0\n",
       " 0.0\n",
       " 0.0\n",
       " 0.0"
      ]
     },
     "execution_count": 23,
     "metadata": {},
     "output_type": "execute_result"
    }
   ],
   "source": [
    "A=[1 dt dt^2/2\n",
    "    0 1 dt\n",
    "    0 0 1]\n",
    "B=[dt^3/6\n",
    "    dt^2/2\n",
    "    dt]\n",
    "C=[1 0 -zc/g]\n",
    "\n",
    "Q=[100 0 0 0\n",
    "    0 100 0 0\n",
    "    0 0 100 0\n",
    "    0 0 0 100]\n",
    "R=1.0\n",
    "\n",
    "#エラーシステム\n",
    "\n",
    "#内部状態ベクトル\n",
    "x=[ sx[1]+0.001\n",
    "    0.0\n",
    "    0.0]\n",
    "\n",
    "y=[ L/2+0.001\n",
    "    0.0\n",
    "    0.0]\n",
    "\n",
    "φ=[1 -C*A\n",
    "    zeros(Float64,3) A]\n",
    "G=[-C*B\n",
    "    B]\n",
    "Gr=[1.0\n",
    "    0.0\n",
    "    0.0\n",
    "    0.0]"
   ]
  },
  {
   "cell_type": "code",
   "execution_count": 24,
   "metadata": {},
   "outputs": [
    {
     "data": {
      "text/plain": [
       "1-element Array{Float64,1}:\n",
       " -0.00978845"
      ]
     },
     "execution_count": 24,
     "metadata": {},
     "output_type": "execute_result"
    }
   ],
   "source": [
    "k=0\n",
    "\n",
    "t=[i for i in 1:k_max]\n",
    "x_plot_log=zeros(Float64,k_max)\n",
    "x_plot_log[k+1]=x[1] #plotするために記録\n",
    "xv_plot_log=zeros(Float64,k_max)\n",
    "xv_plot_log[k+1]=x[2]\n",
    "xa_plot_log=zeros(Float64,k_max)\n",
    "xa_plot_log[k+1]=x[3]\n",
    "\n",
    "t=[i for i in 1:k_max]\n",
    "y_plot_log=zeros(Float64,k_max)\n",
    "y_plot_log[k+1]=y[1] #plotするために記録\n",
    "yv_plot_log=zeros(Float64,k_max)\n",
    "yv_plot_log[k+1]=y[2]\n",
    "ya_plot_log=zeros(Float64,k_max)\n",
    "ya_plot_log[k+1]=y[3] \n",
    "\n",
    "\n",
    "xdu=0\n",
    "xdR=px_ref[k+1]-px[1] #dR[K+1]\n",
    "ydu=0\n",
    "ydR=py_ref[k+1]-py[1] #dR[K+1]\n",
    "\n",
    "xe=px[1]-C*x\n",
    "ye=py[1]-C*y\n",
    "\n",
    "\n",
    "dx=[0; 0; 0]\n",
    "dy=[0; 0; 0]\n",
    "\n",
    "X=φ*[xe; dx]+G*xdu+Gr*xdR\n",
    "Y=φ*[ye; dy]+G*ydu+Gr*ydR\n",
    "\n",
    "\n",
    "old_x=x\n",
    "old_y=y\n",
    "\n",
    "xu=0\n",
    "yu=0\n",
    "\n",
    "P=dare(φ,G,Q,R)\n",
    "\n",
    "ξ=(eye(4)-G*(R+G'*P*G)[1]^(-1)*G'*P)*φ\n",
    "\n",
    "xsum=0\n",
    "ysum=0\n",
    "for j in 1:M\n",
    "    Fr=-(R+G'*P*G)[1]^(-1)*G'*(ξ')^(j-1)*P*Gr\n",
    "    xsum +=Fr*(px_ref[k+j]-px_ref[k+j-1+1]) #K=0のみ+1\n",
    "    ysum +=Fr*(py_ref[k+j]-py_ref[k+j-1+1]) #K=0のみ+1\n",
    "end\n",
    "F=-(R+G'*P*G)[1]^(-1)*G'*P*φ\n",
    "xdu=F*X+xsum\n",
    "ydu=F*Y+ysum\n",
    "\n",
    "xu+=xdu\n",
    "yu+=ydu"
   ]
  },
  {
   "cell_type": "code",
   "execution_count": null,
   "metadata": {},
   "outputs": [],
   "source": [
    "for i in 1:k_max-1  \n",
    "    #求めた入力を用いてk+1の状態を計算する\n",
    "    px[k+1]=(C*x)[1]\n",
    "    py[k+1]=(C*y)[1]\n",
    "    \n",
    "    x=A*x+B*xu[1]\n",
    "    y=A*y+B*yu[1]\n",
    "    \n",
    "    k+=1\n",
    "    \n",
    "    x_plot_log[k+1]=x[1] #plotするために記録\n",
    "    xv_plot_log[k+1]=x[2]\n",
    "    xa_plot_log[k+1]=x[3]\n",
    "    \n",
    "    y_plot_log[k+1]=y[1] #plotするために記録\n",
    "    yv_plot_log[k+1]=y[2]\n",
    "    ya_plot_log[k+1]=y[3]\n",
    "    \n",
    "    dx=x-old_x\n",
    "    dy=y-old_y\n",
    "    \n",
    "    xdR=px_ref[k+1]-px_ref[k]\n",
    "    ydR=py_ref[k+1]-py_ref[k]\n",
    "    \n",
    "    \n",
    "    xe=px_ref[k]-C*x\n",
    "    ye=py_ref[k]-C*y\n",
    "    \n",
    "    X=φ*[xe; dx]+G*xdu[1]+Gr*xdR\n",
    "    Y=φ*[ye; dy]+G*ydu[1]+Gr*ydR\n",
    "    \n",
    "    old_x=x\n",
    "    old_y=y\n",
    "    \n",
    "    xsum=0\n",
    "    ysum=0\n",
    "    for j in 1:M\n",
    "        Fr=-(R+G'*P*G)*G'*(ξ')^(j-1)*P*Gr\n",
    "        xsum +=Fr*(px_ref[k+j]-px_ref[k+j-1])\n",
    "        ysum +=Fr*(py_ref[k+j]-py_ref[k+j-1])\n",
    "    end\n",
    "    F=-(R+G'*P*G)*G'*P*φ\n",
    "    xdu=F*X+xsum\n",
    "    ydu=F*Y+ysum\n",
    "    \n",
    "    xu+=xdu\n",
    "    yu+=ydu\n",
    "end\n",
    "    "
   ]
  },
  {
   "cell_type": "code",
   "execution_count": null,
   "metadata": {},
   "outputs": [],
   "source": [
    "plot(t,px_ref)\n",
    "plot!(t,px)\n",
    "plot!(xlab=\"time[ms]\",ylab=\"zmpx[m]\")"
   ]
  },
  {
   "cell_type": "code",
   "execution_count": null,
   "metadata": {
    "scrolled": false
   },
   "outputs": [],
   "source": [
    "plot(t,py_ref)\n",
    "plot!(t,py)\n",
    "plot!(xlab=\"time[ms]\",ylab=\"zmpy[m]\")"
   ]
  },
  {
   "cell_type": "code",
   "execution_count": null,
   "metadata": {},
   "outputs": [],
   "source": [
    "plot(x_plot_log,y_plot_log,linewidth=2)\n",
    "plot!(sx,sy,st=:scatter)\n",
    "#調整用\n",
    "tuney=[0.0 0.5]\n",
    "tunex=[0.1 0.1]\n",
    "plot!(real_sx,real_sy,st=:scatter)\n",
    "plot!(tunex,tuney, st=:scatter)\n",
    "plot!(xlab=\"x[m]\",ylab=\"y[m]\")"
   ]
  },
  {
   "cell_type": "code",
   "execution_count": null,
   "metadata": {},
   "outputs": [],
   "source": [
    "plot(t,xv_plot_log)"
   ]
  },
  {
   "cell_type": "code",
   "execution_count": null,
   "metadata": {},
   "outputs": [],
   "source": [
    "plot(t,xa_plot_log)"
   ]
  },
  {
   "cell_type": "code",
   "execution_count": null,
   "metadata": {},
   "outputs": [],
   "source": []
  }
 ],
 "metadata": {
  "kernelspec": {
   "display_name": "Julia 0.5.2",
   "language": "julia",
   "name": "julia-0.5"
  },
  "language_info": {
   "file_extension": ".jl",
   "mimetype": "application/julia",
   "name": "julia",
   "version": "0.5.2"
  }
 },
 "nbformat": 4,
 "nbformat_minor": 2
}
