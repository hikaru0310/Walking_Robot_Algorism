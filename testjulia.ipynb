{
 "cells": [
  {
   "cell_type": "code",
   "execution_count": 10,
   "metadata": {},
   "outputs": [
    {
     "name": "stderr",
     "output_type": "stream",
     "text": [
      "\u001b[1m\u001b[31mWARNING: No strict ticks found\u001b[0m\n"
     ]
    },
    {
     "ename": "KeyError",
     "evalue": "KeyError: key \"set_facecolor\" not found",
     "output_type": "error",
     "traceback": [
      "KeyError: key \"set_facecolor\" not found",
      "",
      " in getindex(::PyCall.PyObject, ::String) at /home/haruki/.julia/v0.5/PyCall/src/PyCall.jl:247",
      " in getindex(::PyCall.PyObject, ::Symbol) at /home/haruki/.julia/v0.5/PyCall/src/PyCall.jl:252",
      " in _before_layout_calcs(::Plots.Plot{Plots.PyPlotBackend}) at /home/haruki/.julia/v0.5/Plots/src/backends/pyplot.jl:1077",
      " in prepare_output(::Plots.Plot{Plots.PyPlotBackend}) at /home/haruki/.julia/v0.5/Plots/src/plot.jl:247",
      " in show(::Base64EncodePipe, ::MIME{Symbol(\"image/png\")}, ::Plots.Plot{Plots.PyPlotBackend}) at /home/haruki/.julia/v0.5/Plots/src/output.jl:196",
      " in base64encode(::Function, ::MIME{Symbol(\"image/png\")}, ::Vararg{Any,N}) at ./base64.jl:160",
      " in show(::Base.AbstractIOBuffer{Array{UInt8,1}}, ::MIME{Symbol(\"text/html\")}, ::Plots.Plot{Plots.PyPlotBackend}) at /home/haruki/.julia/v0.5/Plots/src/output.jl:174",
      " in show(::Base.AbstractIOBuffer{Array{UInt8,1}}, ::String, ::Plots.Plot{Plots.PyPlotBackend}) at ./multimedia.jl:33",
      " in #sprint#316(::Void, ::Function, ::Int64, ::Function, ::String, ::Vararg{Any,N}) at ./strings/io.jl:37",
      " in display_dict(::Plots.Plot{Plots.PyPlotBackend}) at /home/haruki/.julia/v0.5/Plots/src/output.jl:266",
      " in #invokelatest#24(::Array{Any,1}, ::Function, ::Function, ::Plots.Plot{Plots.PyPlotBackend}, ::Vararg{Plots.Plot{Plots.PyPlotBackend},N}) at /home/haruki/.julia/v0.5/Compat/src/Compat.jl:505",
      " in execute_request(::ZMQ.Socket, ::IJulia.Msg) at /home/haruki/.julia/v0.5/IJulia/src/execute_request.jl:186",
      " in #invokelatest#24(::Array{Any,1}, ::Function, ::Function, ::ZMQ.Socket, ::Vararg{Any,N}) at /home/haruki/.julia/v0.5/Compat/src/Compat.jl:505",
      " in eventloop(::ZMQ.Socket) at /home/haruki/.julia/v0.5/IJulia/src/eventloop.jl:8",
      " in (::IJulia.##18#24)() at ./task.jl:360"
     ]
    }
   ],
   "source": [
    "using PyCall\n",
    "using Plots\n",
    "pyplot()\n",
    "Plots.plot(x->sin(x),0,pi,size=(400,300))"
   ]
  },
  {
   "cell_type": "code",
   "execution_count": null,
   "metadata": {},
   "outputs": [],
   "source": [
    "data1d=rand(10)\n",
    "data1d2=rand(10)\n",
    "data1d3=rand(10)\n",
    "data2d=[rand()/5 + exp(-(x^2+y^2)/100) for x in -10:10, y in -10:10]\n",
    "data1dp=0:2pi/10:2pi;"
   ]
  },
  {
   "cell_type": "code",
   "execution_count": 2,
   "metadata": {},
   "outputs": [
    {
     "data": {
      "text/plain": [
       "example (generic function with 3 methods)"
      ]
     },
     "execution_count": 2,
     "metadata": {},
     "output_type": "execute_result"
    }
   ],
   "source": []
  },
  {
   "cell_type": "code",
   "execution_count": 3,
   "metadata": {},
   "outputs": [
    {
     "ename": "LoadError",
     "evalue": "UndefVarError: plot not defined",
     "output_type": "error",
     "traceback": [
      "UndefVarError: plot not defined",
      "",
      " in example(::Bool, ::Bool) at ./In[2]:2 (repeats 2 times)",
      " in include_string(::String, ::String) at ./loading.jl:441"
     ]
    }
   ],
   "source": [
    "example()"
   ]
  },
  {
   "cell_type": "code",
   "execution_count": 4,
   "metadata": {},
   "outputs": [
    {
     "ename": "LoadError",
     "evalue": "UndefVarError: Plots not defined",
     "output_type": "error",
     "traceback": [
      "UndefVarError: Plots not defined",
      "",
      " in include_string(::String, ::String) at ./loading.jl:441"
     ]
    }
   ],
   "source": [
    "Plots.plot(x->sin(x),0,pi,size=(400,300))"
   ]
  },
  {
   "cell_type": "code",
   "execution_count": null,
   "metadata": {},
   "outputs": [],
   "source": []
  }
 ],
 "metadata": {
  "kernelspec": {
   "display_name": "Julia 0.5.2",
   "language": "julia",
   "name": "julia-0.5"
  },
  "language_info": {
   "file_extension": ".jl",
   "mimetype": "application/julia",
   "name": "julia",
   "version": "0.5.2"
  }
 },
 "nbformat": 4,
 "nbformat_minor": 2
}
